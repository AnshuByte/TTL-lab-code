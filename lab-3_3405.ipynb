{
 "cells": [
  {
   "cell_type": "markdown",
   "id": "130a093e",
   "metadata": {},
   "source": [
    "Wite a program to create a set of user-defined functions to perform basic\n",
    "mathematical operations (addition, subtraction, multiplication, and division) and explore different\n",
    "ways of passing parameters to functions."
   ]
  },
  {
   "cell_type": "code",
   "execution_count": 3,
   "id": "9859fb95",
   "metadata": {},
   "outputs": [
    {
     "name": "stdout",
     "output_type": "stream",
     "text": [
      "Enter the value : 2\n",
      "Results:\n",
      "Addition: 7\n",
      "Subtraction: -3\n",
      "Multiplication: 10\n",
      "Division: 0.4\n"
     ]
    }
   ],
   "source": [
    "# User-defined functions for basic mathematical operations\n",
    "\n",
    "# Addition function\n",
    "def add(x, y):\n",
    "    return x + y\n",
    "\n",
    "# Subtraction function\n",
    "def subtract(x, y):\n",
    "    return x - y\n",
    "\n",
    "# Multiplication function\n",
    "def multiply(x, y):\n",
    "    return x * y\n",
    "\n",
    "# Division function\n",
    "def divide(x, y):\n",
    "    if y != 0:\n",
    "        return x / y\n",
    "    else:\n",
    "        return \"Error: Division by zero\"\n",
    "\n",
    "    \n",
    "#input\n",
    "a= int(input(\"Enter the 1st value : \"))\n",
    "b= int(input(\"Enter the 2nd value : \"))\n",
    "\n",
    "# Passing parameters directly\n",
    "result1 = add(a, b)\n",
    "result2 = subtract(a, b)\n",
    "\n",
    "# Passing parameters as variables\n",
    "params = (a, b)\n",
    "result3 = multiply(*params)\n",
    "\n",
    "# Passing parameters using a dictionary\n",
    "params_dict = {'x': a, 'y': b}\n",
    "result4 = divide(**params_dict)\n",
    "\n",
    "# Output\n",
    "print(\"Results:\")\n",
    "print(\"Addition:\", result1)\n",
    "print(\"Subtraction:\", result2)\n",
    "print(\"Multiplication:\", result3)\n",
    "print(\"Division:\", result4)\n"
   ]
  },
  {
   "cell_type": "raw",
   "id": "33a931f4",
   "metadata": {},
   "source": [
    "Create simple lambda functions for basic operations like addition, subtraction, multiplication, and division.\n",
    "1. Use lambda functions with built-in functions like filter() to filter elements from a list.\n",
    "2. Use lambda functions with built-in functions like map() to perform operations on each element of a list.\n",
    "3. Use lambda functions with the sorted() function to customize sorting."
   ]
  },
  {
   "cell_type": "code",
   "execution_count": 13,
   "id": "d3038344",
   "metadata": {},
   "outputs": [
    {
     "name": "stdout",
     "output_type": "stream",
     "text": [
      "Enter the first number: 1\n",
      "Enter the second number: 0\n",
      "Addition: 1.0\n",
      "Subtraction: 1.0\n",
      "Multiplication: 0.0\n",
      "Division: Error: Division by zero\n"
     ]
    }
   ],
   "source": [
    "#simple lambda functions for basic operations\n",
    "addition = lambda x, y: x + y\n",
    "subtraction = lambda x, y: x - y\n",
    "multiplication = lambda x, y: x * y\n",
    "division = lambda x, y: x / y if y != 0 else \"Error: Division by zero\"\n",
    "\n",
    "num1 = float(input(\"Enter the first number: \"))\n",
    "num2 = float(input(\"Enter the second number: \"))\n",
    "\n",
    "print(\"Addition:\", addition(num1, num2))\n",
    "print(\"Subtraction:\", subtraction(num1, num2))\n",
    "print(\"Multiplication:\", multiplication(num1, num2))\n",
    "print(\"Division:\", division(num1, num2))\n"
   ]
  },
  {
   "cell_type": "code",
   "execution_count": 5,
   "id": "9bbc896a",
   "metadata": {},
   "outputs": [
    {
     "name": "stdout",
     "output_type": "stream",
     "text": [
      "Filtered list of even numbers: [2, 4, 6, 8, 10]\n"
     ]
    }
   ],
   "source": [
    "#filter\n",
    "my_list = [1, 2, 3, 4, 5, 6, 7, 8, 9, 10]\n",
    "\n",
    "# Filter even numbers using lambda function with filter()\n",
    "filtered_list = list(filter(lambda x: x % 2 == 0, my_list))\n",
    "print(\"Filtered list of even numbers:\", filtered_list)\n"
   ]
  },
  {
   "cell_type": "code",
   "execution_count": 6,
   "id": "4230dad4",
   "metadata": {},
   "outputs": [
    {
     "name": "stdout",
     "output_type": "stream",
     "text": [
      "List with each element doubled: [2, 4, 6, 8, 10, 12, 14, 16, 18, 20]\n"
     ]
    }
   ],
   "source": [
    "#map\n",
    "\n",
    "doubled_list = list(map(lambda x: x * 2, my_list))\n",
    "print(\"List with each element doubled:\", doubled_list)\n"
   ]
  },
  {
   "cell_type": "code",
   "execution_count": 7,
   "id": "04560fbe",
   "metadata": {},
   "outputs": [
    {
     "name": "stdout",
     "output_type": "stream",
     "text": [
      "Sorted list based on the second element of tuples: [(1, 'apple'), (3, 'banana'), (2, 'orange')]\n"
     ]
    }
   ],
   "source": [
    "#sorted\n",
    "tuple_list = [(1, 'apple'), (3, 'banana'), (2, 'orange')]\n",
    "sorted_list = sorted(tuple_list, key=lambda x: x[1])\n",
    "print(\"Sorted list based on the second element of tuples:\", sorted_list)\n"
   ]
  },
  {
   "cell_type": "raw",
   "id": "431dcfbc",
   "metadata": {},
   "source": [
    "Create a Python module by defining a few functions and variables and Import the\n",
    "module created in step 1 into another Python script and use its functions and variables.\n",
    "\n"
   ]
  },
  {
   "cell_type": "code",
   "execution_count": null,
   "id": "504d72cb",
   "metadata": {},
   "outputs": [],
   "source": []
  },
  {
   "cell_type": "markdown",
   "id": "ffdc52c6",
   "metadata": {},
   "source": [
    " \n",
    " \n",
    "### Define a base class, e.g., Vehicle, with attributes such as make, model, and year.\n",
    " Implement a constructor to initialize these attributes.\n",
    " Create instances of the Vehicle class, representing different vehicles with distinct attributes.\n",
    " Display the information for each vehicle using appropriate methods.\n",
    " Overload the + operator to combine the make and model attributes of two instances.\n",
    " Display the result of this operator overloading operation.\n",
    " Create a derived class, e.g., Car, that inherits from the Vehicle class.\n",
    " Add specific attributes to the Car class, such as num_doors and fuel_type.\n",
    " Instantiate objects of both the Vehicle and Car classes.\n",
    " Display the information for each object, showcasing the inheritance structure."
   ]
  },
  {
   "cell_type": "code",
   "execution_count": 20,
   "id": "2769e6e6",
   "metadata": {},
   "outputs": [
    {
     "name": "stdout",
     "output_type": "stream",
     "text": [
      "Vehicle 1:\n",
      "Make: Toyota, Model: Camry, Year: 2022\n",
      "\n",
      "Vehicle 2:\n",
      "Make: Honda, Model: Civic, Year: 2021\n",
      "\n",
      "Combining two vehicles:\n",
      "Toyota Camry + Honda Civic\n",
      "\n",
      "Car 1:\n",
      "Make: Ford, Model: Mustang, Year: 2020\n",
      "Number of Doors: 2, Fuel Type: Gasoline\n",
      "\n",
      "Car 2:\n",
      "Make: Tesla, Model: Model S, Year: 2023\n",
      "Number of Doors: 4, Fuel Type: Electric\n"
     ]
    }
   ],
   "source": [
    "class Vehicle:\n",
    "    def __init__(self, make, model, year):\n",
    "        self.make = make\n",
    "        self.model = model\n",
    "        self.year = year\n",
    "\n",
    "    def display_info(self):\n",
    "        print(f\"Make: {self.make}, Model: {self.model}, Year: {self.year}\")\n",
    "\n",
    "    def __add__(self, other):\n",
    "        return f\"{self.make} {self.model} + {other.make} {other.model}\"\n",
    "\n",
    "class Car(Vehicle):\n",
    "    def __init__(self, make, model, year, num_doors, fuel_type):\n",
    "        super().__init__(make, model, year)\n",
    "        self.num_doors = num_doors\n",
    "        self.fuel_type = fuel_type\n",
    "\n",
    "    def display_info(self):\n",
    "        super().display_info()\n",
    "        print(f\"Number of Doors: {self.num_doors}, Fuel Type: {self.fuel_type}\")\n",
    "\n",
    "# Creating instances of Vehicle class\n",
    "vehicle1 = Vehicle(\"Toyota\", \"Camry\", 2022)\n",
    "vehicle2 = Vehicle(\"Honda\", \"Civic\", 2021)\n",
    "\n",
    "# Displaying information for each vehicle\n",
    "print(\"Vehicle 1:\")\n",
    "vehicle1.display_info()\n",
    "print(\"\\nVehicle 2:\")\n",
    "vehicle2.display_info()\n",
    "\n",
    "# Overloading the + operator\n",
    "print(\"\\nCombining two vehicles:\")\n",
    "print(vehicle1 + vehicle2)\n",
    "\n",
    "# Creating instances of Car class\n",
    "car1 = Car(\"Ford\", \"Mustang\", 2020, 2, \"Gasoline\")\n",
    "car2 = Car(\"Tesla\", \"Model S\", 2023, 4, \"Electric\")\n",
    "\n",
    "# Displaying information for each object\n",
    "print(\"\\nCar 1:\")\n",
    "car1.display_info()\n",
    "print(\"\\nCar 2:\")\n",
    "car2.display_info()\n"
   ]
  },
  {
   "cell_type": "code",
   "execution_count": null,
   "id": "dc5edcf2",
   "metadata": {},
   "outputs": [],
   "source": []
  }
 ],
 "metadata": {
  "kernelspec": {
   "display_name": "Python 3 (ipykernel)",
   "language": "python",
   "name": "python3"
  },
  "language_info": {
   "codemirror_mode": {
    "name": "ipython",
    "version": 3
   },
   "file_extension": ".py",
   "mimetype": "text/x-python",
   "name": "python",
   "nbconvert_exporter": "python",
   "pygments_lexer": "ipython3",
   "version": "3.11.5"
  }
 },
 "nbformat": 4,
 "nbformat_minor": 5
}
